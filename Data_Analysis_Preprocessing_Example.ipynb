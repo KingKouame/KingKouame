{
  "nbformat": 4,
  "nbformat_minor": 0,
  "metadata": {
    "colab": {
      "provenance": [],
      "authorship_tag": "ABX9TyOd3Rk+K83aaT5DLmlk/wJ3",
      "include_colab_link": true
    },
    "kernelspec": {
      "name": "python3",
      "display_name": "Python 3"
    },
    "language_info": {
      "name": "python"
    }
  },
  "cells": [
    {
      "cell_type": "markdown",
      "metadata": {
        "id": "view-in-github",
        "colab_type": "text"
      },
      "source": [
        "<a href=\"https://colab.research.google.com/github/KingKouame/KingKouame/blob/main/Data_Analysis_Preprocessing_Example.ipynb\" target=\"_parent\"><img src=\"https://colab.research.google.com/assets/colab-badge.svg\" alt=\"Open In Colab\"/></a>"
      ]
    },
    {
      "cell_type": "markdown",
      "source": [
        "For this task, I have decided to use Google Colab as it is easier to use for me and I am more familiar with the platform.\n",
        "\n",
        "To get started, first we are importing 'pandas' which will allow us to select data from a dataset."
      ],
      "metadata": {
        "id": "5A1i6Jqhe07Y"
      }
    },
    {
      "cell_type": "code",
      "execution_count": 1,
      "metadata": {
        "id": "LyxlhrW0dgGZ"
      },
      "outputs": [],
      "source": [
        "import pandas as pd\n",
        "import numpy as np\n",
        "\n",
        "# Scaling modules\n",
        "from mlxtend.preprocessing import minmax_scaling, standardize\n",
        "\n",
        "# Plotting modules\n",
        "import seaborn as sns\n",
        "import matplotlib.pyplot as plt\n",
        "\n",
        "# Ensures the same random data is used each time you execute the code\n",
        "np.random.seed(0)"
      ]
    },
    {
      "cell_type": "markdown",
      "source": [
        "I mount my Google drive which will give me access to the files I upload."
      ],
      "metadata": {
        "id": "oCQQJL4wkzTw"
      }
    },
    {
      "cell_type": "code",
      "source": [
        "from google.colab import drive\n",
        "drive.mount('/content/drive')"
      ],
      "metadata": {
        "colab": {
          "base_uri": "https://localhost:8080/"
        },
        "id": "uL69RP3_gXJu",
        "outputId": "546e3e0d-6048-4c01-fc73-63bf24bc29f0"
      },
      "execution_count": 2,
      "outputs": [
        {
          "output_type": "stream",
          "name": "stdout",
          "text": [
            "Mounted at /content/drive\n"
          ]
        }
      ]
    },
    {
      "cell_type": "markdown",
      "source": [
        "To ensure I have the correct file and access to the document, I run the first 5 lines."
      ],
      "metadata": {
        "id": "KPj0m527k-Bm"
      }
    },
    {
      "cell_type": "code",
      "source": [
        "df = pd.read_csv('/content/drive/MyDrive/Colab Notebooks/store_income_data_task.csv')"
      ],
      "metadata": {
        "id": "8YDlVCrfgh32"
      },
      "execution_count": 8,
      "outputs": []
    },
    {
      "cell_type": "code",
      "source": [
        "# We will get the number of missing values per column and print the results.\n",
        "\n",
        "missing_values_per_column = df.isnull().sum()\n",
        "print(missing_values_per_column)"
      ],
      "metadata": {
        "id": "yzvl_MHsrrTU",
        "colab": {
          "base_uri": "https://localhost:8080/"
        },
        "outputId": "e6c11661-aaa4-43f5-d835-bc24ba8288ea"
      },
      "execution_count": 9,
      "outputs": [
        {
          "output_type": "stream",
          "name": "stdout",
          "text": [
            "id                 0\n",
            "store_name         0\n",
            "store_email      587\n",
            "department        27\n",
            "income             0\n",
            "date_measured      0\n",
            "country           35\n",
            "dtype: int64\n"
          ]
        }
      ]
    },
    {
      "cell_type": "code",
      "source": [
        "# Below are potential hyotheses as to why data is missing for the following columns:\n",
        "\n",
        "# store_email:\n",
        "# - The store may not have provided an email address.\n",
        "# - The email address may have been lost or corrupted.\n",
        "# - The data entry process may have omitted the email address.\n",
        "\n",
        "# department:\n",
        "# - The store may not have assigned a department to the transaction.\n",
        "# - The department information may have been lost or corrupted.\n",
        "# - The data entry process may have omitted the department information.\n",
        "\n",
        "# country:\n",
        "# - The store may not have recorded the customer's country.\n",
        "# - The country information may have been lost or corrupted.\n",
        "# - The data entry process may have omitted the country information."
      ],
      "metadata": {
        "id": "cKsGM2iH2SoX"
      },
      "execution_count": null,
      "outputs": []
    }
  ]
}